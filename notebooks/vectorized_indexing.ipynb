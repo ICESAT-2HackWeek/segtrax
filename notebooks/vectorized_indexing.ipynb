{
 "cells": [
  {
   "cell_type": "code",
   "execution_count": 1,
   "metadata": {},
   "outputs": [],
   "source": [
    "%matplotlib inline"
   ]
  },
  {
   "cell_type": "code",
   "execution_count": 20,
   "metadata": {},
   "outputs": [],
   "source": [
    "import matplotlib.pyplot as plt\n",
    "\n",
    "import xarray as xr\n",
    "import numpy as np\n",
    "import glob\n",
    "import sys\n",
    "\n",
    "from scipy.interpolate import interp2d\n",
    "\n",
    "# Our modules\n",
    "sys.path.append('/home/jovyan/segtrax/source')\n",
    "from utilities import transform_coord\n"
   ]
  },
  {
   "cell_type": "markdown",
   "metadata": {},
   "source": [
    "## Proof of concept for vectorized indexing in xarray\n",
    "Create a DataArray"
   ]
  },
  {
   "cell_type": "code",
   "execution_count": 3,
   "metadata": {},
   "outputs": [
    {
     "data": {
      "text/plain": [
       "<xarray.DataArray (x: 3, y: 4)>\n",
       "array([[ 0,  1,  2,  3],\n",
       "       [ 4,  5,  6,  7],\n",
       "       [ 8,  9, 10, 11]])\n",
       "Coordinates:\n",
       "  * x        (x) int64 0 1 2\n",
       "  * y        (y) <U1 'a' 'b' 'c' 'd'"
      ]
     },
     "execution_count": 3,
     "metadata": {},
     "output_type": "execute_result"
    }
   ],
   "source": [
    "da = xr.DataArray(np.arange(12).reshape((3, 4)), dims=['x', 'y'], coords={'x': [0, 1, 2], 'y': ['a', 'b', 'c', 'd']})\n",
    "da"
   ]
  },
  {
   "cell_type": "markdown",
   "metadata": {},
   "source": [
    "Generate index DataArrays"
   ]
  },
  {
   "cell_type": "code",
   "execution_count": 4,
   "metadata": {},
   "outputs": [],
   "source": [
    "ind_x = xr.DataArray([0, 1], dims=['i'])\n",
    "ind_y = xr.DataArray([0, 2], dims=['i'])"
   ]
  },
  {
   "cell_type": "markdown",
   "metadata": {},
   "source": [
    "Extract points"
   ]
  },
  {
   "cell_type": "code",
   "execution_count": 5,
   "metadata": {},
   "outputs": [
    {
     "data": {
      "text/plain": [
       "<xarray.DataArray (i: 2)>\n",
       "array([0, 6])\n",
       "Coordinates:\n",
       "    x        (i) int64 0 1\n",
       "    y        (i) <U1 'a' 'c'\n",
       "Dimensions without coordinates: i"
      ]
     },
     "execution_count": 5,
     "metadata": {},
     "output_type": "execute_result"
    }
   ],
   "source": [
    "da[ind_x, ind_y]"
   ]
  },
  {
   "cell_type": "markdown",
   "metadata": {},
   "source": [
    "## Try it with ice motion data\n",
    "\n",
    "Read the ice motion data"
   ]
  },
  {
   "cell_type": "code",
   "execution_count": 6,
   "metadata": {},
   "outputs": [
    {
     "data": {
      "text/plain": [
       "<xarray.Dataset>\n",
       "Dimensions:                 (time: 70, x: 361, y: 361)\n",
       "Coordinates:\n",
       "  * x                       (x) float64 -4.512e+06 -4.487e+06 ... 4.512e+06\n",
       "  * y                       (y) float64 -4.512e+06 -4.487e+06 ... 4.512e+06\n",
       "  * time                    (time) object 2019-01-01 00:00:00 ... 2018-12-24 12:00:00\n",
       "Data variables:\n",
       "    crs                     int32 -2147483647\n",
       "    latitude                (y, x) float32 29.896942 30.080757 ... 29.896942\n",
       "    longitude               (y, x) float32 -45.0 -44.8404 ... 135.15959 135.0\n",
       "    u                       (time, y, x) float32 dask.array<shape=(70, 361, 361), chunksize=(18, 361, 361)>\n",
       "    v                       (time, y, x) float32 dask.array<shape=(70, 361, 361), chunksize=(18, 361, 361)>\n",
       "    number_of_observations  (time, y, x) float32 dask.array<shape=(70, 361, 361), chunksize=(18, 361, 361)>\n",
       "Attributes:\n",
       "    version:       QuickLook data based on Ice Motion version 4.1\n",
       "    release_date:  May 2019\n",
       "    Conventions:   CF-1.4\n",
       "    citation:      Tschudi, M. A., Meier, W. N., and Stewart, J. S.: An enhan...\n",
       "    dataset_doi:   10.5067/O0XI8PPYEZJ6"
      ]
     },
     "execution_count": 6,
     "metadata": {},
     "output_type": "execute_result"
    }
   ],
   "source": [
    "motion_files = glob.glob('/home/jovyan/segtrax/data/icemotion*.nc')\n",
    "ds = xr.open_mfdataset(motion_files, concat_dim='time', data_vars='different')\n",
    "ds"
   ]
  },
  {
   "cell_type": "markdown",
   "metadata": {},
   "source": [
    "Plot one week of data"
   ]
  },
  {
   "cell_type": "code",
   "execution_count": 22,
   "metadata": {},
   "outputs": [
    {
     "data": {
      "text/plain": [
       "<matplotlib.collections.QuadMesh at 0x7fa43d3bdef0>"
      ]
     },
     "execution_count": 22,
     "metadata": {},
     "output_type": "execute_result"
    },
    {
     "data": {
      "image/png": "[encoded data removed]",
      "text/plain": [
       "<Figure size 432x288 with 2 Axes>"
      ]
     },
     "metadata": {
      "needs_background": "light"
     },
     "output_type": "display_data"
    }
   ],
   "source": [
    "ds.sel(time='2018-11-05').u.plot()"
   ]
  },
  {
   "cell_type": "markdown",
   "metadata": {},
   "source": [
    "Now we will generate some test points for interpolation.  These need to be in projected coordinates, so we use the `transform_coords` function to do this."
   ]
  },
  {
   "cell_type": "code",
   "execution_count": 23,
   "metadata": {},
   "outputs": [
    {
     "name": "stdout",
     "output_type": "stream",
     "text": [
      "[0.0, 38758.62082587721, 57921.845123659696] [-555818.1242497492, -443013.06322267157, -328491.107208524]\n"
     ]
    }
   ],
   "source": [
    "lat = [85.,86.,87.]\n",
    "lon = [0.,5.,10.]\n",
    "x, y = transform_coord(4326, 3408, lon, lat)\n",
    "print (x, y)"
   ]
  },
  {
   "cell_type": "markdown",
   "metadata": {},
   "source": [
    "Plot as a sanity check and to make sure the points fall within the region with data."
   ]
  },
  {
   "cell_type": "code",
   "execution_count": 13,
   "metadata": {},
   "outputs": [
    {
     "data": {
      "image/png": "[encoded data removed]",
      "text/plain": [
       "<Figure size 504x504 with 2 Axes>"
      ]
     },
     "metadata": {
      "needs_background": "light"
     },
     "output_type": "display_data"
    }
   ],
   "source": [
    "fig, ax = plt.subplots(figsize=(7,7))\n",
    "ds.sel(time='2018-11-05').u.plot(ax=ax)\n",
    "ax.scatter(x, y, c='k', s=3)\n",
    "ax.set_aspect('equal')"
   ]
  },
  {
   "cell_type": "markdown",
   "metadata": {},
   "source": [
    "Now we do a nearest neighbour interpolation to get the closest u and v to x and y.\n",
    "\n",
    "To do this x and y need to be xarray DataArrays with the **same** dimensions.  The dimension name used for `ind_x` and `ind_y` does not have a dimension in the DataSet you are trying to subset."
   ]
  },
  {
   "cell_type": "code",
   "execution_count": 14,
   "metadata": {},
   "outputs": [
    {
     "name": "stdout",
     "output_type": "stream",
     "text": [
      "[85.039    85.916435 87.03461 ]\n",
      "[0.       6.340192 8.746162]\n",
      "[[-2.  -4.4 -4.9]]\n",
      "[[-6.1 -5.6 -4.2]]\n"
     ]
    }
   ],
   "source": [
    "ind_x = xr.DataArray(x, dims=['i'])\n",
    "ind_y = xr.DataArray(y, dims=['i'])\n",
    "print ( ds.sel(time='2018-11-05').latitude.sel(x=ind_x, y=ind_y, method='nearest').values )\n",
    "print ( ds.sel(time='2018-11-05').longitude.sel(x=ind_x, y=ind_y, method='nearest').values )\n",
    "print ( ds.sel(time='2018-11-05').u.sel(x=ind_x, y=ind_y, method='nearest').values )\n",
    "print ( ds.sel(time='2018-11-05').v.sel(x=ind_x, y=ind_y, method='nearest').values )"
   ]
  },
  {
   "cell_type": "markdown",
   "metadata": {},
   "source": [
    "## Interoplate ice motion vectors to arbitrary points\n",
    "\n",
    "I use `scipy.interpolate.interp2d` for this.  This function returns 2d arrays.  So I use list comprehension to find individual x, y pairs."
   ]
  },
  {
   "cell_type": "code",
   "execution_count": 16,
   "metadata": {},
   "outputs": [],
   "source": [
    "u = ds.sel(time='2018-11-05').u.values\n",
    "u[np.isnan(u)] = -99.9\n",
    "v = ds.sel(time='2018-11-05').v.values\n",
    "v[np.isnan(v)] = -99.9\n",
    "fu = interp2d(ds.x, ds.y, u, kind='linear')\n",
    "fv = interp2d(ds.x, ds.y, v, kind='linear')"
   ]
  },
  {
   "cell_type": "code",
   "execution_count": 17,
   "metadata": {},
   "outputs": [
    {
     "name": "stdout",
     "output_type": "stream",
     "text": [
      "u =  [-1.94814917 -4.22065543 -4.93430168]\n",
      "v =  [-6.13456718 -5.56727877 -4.18583824]\n"
     ]
    }
   ],
   "source": [
    "print ('u = ', np.diag(fu(x, y)))\n",
    "print ('v = ', np.diag(fv(x, y)))"
   ]
  },
  {
   "cell_type": "markdown",
   "metadata": {},
   "source": [
    "Now write this as a nice function"
   ]
  },
  {
   "cell_type": "code",
   "execution_count": 18,
   "metadata": {},
   "outputs": [],
   "source": [
    "def interp_uv(x, y, u, v, xi, yi):\n",
    "    \n",
    "    # Set NaN to -99.99 in u and v arrays\n",
    "    # - probably not the best approach but it will work for now\n",
    "    um = np.where(~np.isnan(u), u, -99.9)\n",
    "    vm = np.where(~np.isnan(v), v, -99.9)\n",
    "    \n",
    "    fu = interp2d(x, y, um, kind='linear')\n",
    "    fv = interp2d(x, y, vm, kind='linear')\n",
    "    \n",
    "    ui = np.array([fu(x_i, y_i) for x_i, y_i in zip(xi, yi)])\n",
    "    vi = np.array([fv(x_i, y_i) for x_i, y_i in zip(xi, yi)])\n",
    "    \n",
    "    return ui.flatten(), vi.flatten()\n",
    "    "
   ]
  },
  {
   "cell_type": "markdown",
   "metadata": {},
   "source": [
    "...and we get the same results yea!"
   ]
  },
  {
   "cell_type": "code",
   "execution_count": 19,
   "metadata": {},
   "outputs": [
    {
     "name": "stdout",
     "output_type": "stream",
     "text": [
      "[-1.94814917 -4.22065543 -4.93430168]\n",
      "[-6.13456718 -5.56727877 -4.18583824]\n"
     ]
    }
   ],
   "source": [
    "ui, vi = interp_uv(ds.x, ds.y, \n",
    "                   ds.sel(time='2018-11-05').u.values, \n",
    "                   ds.sel(time='2018-11-05').v.values, \n",
    "                   x, y)\n",
    "print (ui)\n",
    "print (vi)"
   ]
  },
  {
   "cell_type": "code",
   "execution_count": null,
   "metadata": {},
   "outputs": [],
   "source": []
  }
 ],
 "metadata": {
  "kernelspec": {
   "display_name": "Python 3",
   "language": "python",
   "name": "python3"
  },
  "language_info": {
   "codemirror_mode": {
    "name": "ipython",
    "version": 3
   },
   "file_extension": ".py",
   "mimetype": "text/x-python",
   "name": "python",
   "nbconvert_exporter": "python",
   "pygments_lexer": "ipython3",
   "version": "3.6.7"
  }
 },
 "nbformat": 4,
 "nbformat_minor": 2
}
