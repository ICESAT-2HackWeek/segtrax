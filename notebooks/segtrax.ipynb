{
 "cells": [
  {
   "cell_type": "markdown",
   "metadata": {},
   "source": [
    "## Import dependencies and modules"
   ]
  },
  {
   "cell_type": "code",
   "execution_count": 4,
   "metadata": {},
   "outputs": [],
   "source": [
    "# Libraries\n",
    "import warnings\n",
    "warnings.filterwarnings('ignore')\n",
    "import numpy as np\n",
    "import pandas as pd\n",
    "import matplotlib.pyplot as plt\n",
    "import h5py\n",
    "import xarray as xr\n",
    "import glob as glob\n",
    "import sys\n",
    "import os.path\n",
    "\n",
    "# Our modules\n",
    "sys.path.append('/home/jovyan/segtrax/source')\n",
    "import utilities as ut\n",
    "import reader as rd\n",
    "from trajectory import Trajectory"
   ]
  },
  {
   "cell_type": "markdown",
   "metadata": {},
   "source": [
    "## Import data"
   ]
  },
  {
   "cell_type": "markdown",
   "metadata": {},
   "source": [
    "#### ERA-I"
   ]
  },
  {
   "cell_type": "code",
   "execution_count": 13,
   "metadata": {},
   "outputs": [
    {
     "name": "stdout",
     "output_type": "stream",
     "text": [
      "Downloading ERA-I data to era_i/ directory\n",
      "download: s3://pangeo-data-upload-oregon/icesat2/segtrax/era-interim-t2m.2018-11.nc to ../data/era_i/era-interim-t2m.2018-11.nc\n",
      "download: s3://pangeo-data-upload-oregon/icesat2/segtrax/era-interim-t2m.2018-12.nc to ../data/era_i/era-interim-t2m.2018-12.nc\n",
      "download: s3://pangeo-data-upload-oregon/icesat2/segtrax/era-interim-t2m.2019-01.nc to ../data/era_i/era-interim-t2m.2019-01.nc\n",
      "download: s3://pangeo-data-upload-oregon/icesat2/segtrax/era-interim-t2m.2019-02.nc to ../data/era_i/era-interim-t2m.2019-02.nc\n"
     ]
    }
   ],
   "source": [
    "if len(os.listdir('../data/era_i/')) == 0:\n",
    "    print(\"Downloading ERA-I data to era_i/ directory\")\n",
    "    \n",
    "    !aws s3 cp s3://pangeo-data-upload-oregon/icesat2/segtrax/era-interim-t2m.2018-11.nc ../data/era_i/era-interim-t2m.2018-11.nc\n",
    "    !aws s3 cp s3://pangeo-data-upload-oregon/icesat2/segtrax/era-interim-t2m.2018-12.nc ../data/era_i/era-interim-t2m.2018-12.nc\n",
    "    !aws s3 cp s3://pangeo-data-upload-oregon/icesat2/segtrax/era-interim-t2m.2019-01.nc ../data/era_i/era-interim-t2m.2019-01.nc\n",
    "    !aws s3 cp s3://pangeo-data-upload-oregon/icesat2/segtrax/era-interim-t2m.2019-02.nc ../data/era_i/era-interim-t2m.2019-02.nc\n",
    "    \n",
    "else:\n",
    "    print(\"Already have ERA-I data\")"
   ]
  },
  {
   "cell_type": "markdown",
   "metadata": {},
   "source": [
    "#### ATL10"
   ]
  },
  {
   "cell_type": "code",
   "execution_count": 20,
   "metadata": {},
   "outputs": [
    {
     "name": "stdout",
     "output_type": "stream",
     "text": [
      "Downloading ATL10 data to atl10/ directory\n",
      "download: s3://pangeo-data-upload-oregon/icesat2/segtrax/Outputs.tar.gz to ../data/atl10/Outputs.tar.gz\n",
      "Outputs/processed_ATL10-01_20181103040509_05430101_001_01.h5\n",
      "Outputs/processed_ATL10-01_20181104020514_05570101_001_01.h5\n",
      "Outputs/processed_ATL10-01_20181101155626_05200101_001_01.h5\n",
      "Outputs/processed_ATL10-01_20181106024817_05880101_001_01.h5\n",
      "Outputs/processed_ATL10-01_20181101014750_05110101_001_01.h5\n",
      "Outputs/processed_ATL10-01_20181103023051_05420101_001_01.h5\n",
      "Outputs/processed_ATL10-01_20181107224823_06160101_001_01.h5\n",
      "Outputs/processed_ATL10-01_20181103194803_05530101_001_01.h5\n",
      "Outputs/processed_ATL10-01_20181104033931_05580101_001_01.h5\n",
      "Outputs/processed_ATL10-01_20181102153049_05350101_001_01.h5\n",
      "Outputs/processed_ATL10-01_20181104161350_05660101_001_01.h5\n",
      "Outputs/processed_ATL10-01_20181103181345_05520101_001_01.h5\n",
      "Outputs/processed_ATL10-01_20181106213946_06000101_001_01.h5\n",
      "Outputs/processed_ATL10-01_20181106011359_05870101_001_01.h5\n",
      "Outputs/processed_ATL10-01_20181101221336_05240101_001_01.h5\n",
      "Outputs/processed_ATL10-01_20181106152236_05960101_001_01.h5\n",
      "Outputs/processed_ATL10-01_20181102201341_05380101_001_01.h5\n",
      "Outputs/processed_ATL10-01_20181102043047_05280101_001_01.h5\n",
      "Outputs/processed_ATL10-01_20181105031353_05730101_001_01.h5\n",
      "Outputs/processed_ATL10-01_20181102170506_05360101_001_01.h5\n",
      "Outputs/processed_ATL10-01_20181105220521_05850101_001_01.h5\n",
      "Outputs/processed_ATL10-01_20181105185646_05830101_001_01.h5\n",
      "Outputs/processed_ATL10-01_20181105172229_05820101_001_01.h5\n",
      "Outputs/processed_ATL10-01_20181106183111_05980101_001_01.h5\n",
      "Outputs/processed_ATL10-01_20181103163928_05510101_001_01.h5\n",
      "Outputs/processed_ATL10-01_20181104143933_05650101_001_01.h5\n",
      "Outputs/processed_ATL10-01_20181101173043_05210101_001_01.h5\n",
      "Outputs/processed_ATL10-01_20181106042234_05890101_001_01.h5\n",
      "Outputs/processed_ATL10-01_20181106231404_06010101_001_01.h5\n",
      "Outputs/processed_ATL10-01_20181104205642_05690101_001_01.h5\n",
      "Outputs/processed_ATL10-01_20181102232216_05400101_001_01.h5\n",
      "Outputs/processed_ATL10-01_20181101032207_05120101_001_01.h5\n",
      "Outputs/processed_ATL10-01_20181102012212_05260101_001_01.h5\n",
      "Outputs/processed_ATL10-01_20181106200529_05990101_001_01.h5\n",
      "Outputs/processed_ATL10-01_20181107163113_06120101_001_01.h5\n",
      "Outputs/processed_ATL10-01_20181101045624_05130101_001_01.h5\n",
      "Outputs/processed_ATL10-01_20181102214759_05390101_001_01.h5\n",
      "Outputs/processed_ATL10-01_20181104003056_05560101_001_01.h5\n",
      "Outputs/processed_ATL10-01_20181107180530_06130101_001_01.h5\n",
      "Outputs/processed_ATL10-01_20181101203918_05230101_001_01.h5\n",
      "Outputs/processed_ATL10-01_20181101190501_05220101_001_01.h5\n",
      "Outputs/processed_ATL10-01_20181107145656_06110101_001_01.h5\n",
      "Outputs/processed_ATL10-01_20181103212220_05540101_001_01.h5\n",
      "Outputs/processed_ATL10-01_20181105044810_05740101_001_01.h5\n",
      "Outputs/processed_ATL10-01_20181106165654_05970101_001_01.h5\n",
      "Outputs/processed_ATL10-01_20181107193948_06140101_001_01.h5\n",
      "Outputs/processed_ATL10-01_20181105233938_05860101_001_01.h5\n",
      "Outputs/processed_ATL10-01_20181102183924_05370101_001_01.h5\n",
      "Outputs/processed_ATL10-01_20181104192225_05680101_001_01.h5\n",
      "Outputs/processed_ATL10-01_20181105013935_05720101_001_01.h5\n",
      "Outputs/processed_ATL10-01_20181104223100_05700101_001_01.h5\n",
      "Outputs/processed_ATL10-01_20181105154812_05810101_001_01.h5\n",
      "Outputs/processed_ATL10-01_20181107211405_06150101_001_01.h5\n",
      "Outputs/processed_ATL10-01_20181105000518_05710101_001_01.h5\n"
     ]
    }
   ],
   "source": [
    "if len(os.listdir('../data/atl10/')) == 0:\n",
    "    print(\"Downloading ATL10 data to atl10/ directory\")\n",
    "\n",
    "    !aws s3 cp s3://pangeo-data-upload-oregon/icesat2/segtrax/Outputs.tar.gz ../data/atl10/\n",
    "    !tar -xzvf ../data/atl10/Outputs.tar.gz -C ../data/atl10/ --strip-components=1\n",
    "\n",
    "else:\n",
    "    print(\"Already have ATL10 data\")"
   ]
  },
  {
   "cell_type": "markdown",
   "metadata": {},
   "source": [
    "#### Ice Motion\n",
    "- Included in `data/` directory in repo"
   ]
  },
  {
   "cell_type": "markdown",
   "metadata": {},
   "source": [
    "## Initialize list of objects\n",
    "1. Get list of data files with glob library\n",
    "2. Iterate through each file and create a trajectory object with that file's data. Add the object to a list.\n",
    "\n",
    "Potential improvements: simplify .h5 files and use parallelization stuff from Fernando's tutorial?"
   ]
  },
  {
   "cell_type": "code",
   "execution_count": 20,
   "metadata": {},
   "outputs": [
    {
     "name": "stdout",
     "output_type": "stream",
     "text": [
      "ATL10 file: /home/jovyan/segtrax/data/ATL10_tracks/161109914/processed_ATL10-01_20181105062227_05750101_001_01.h5\n",
      "ATL10 file: /home/jovyan/segtrax/data/ATL10_tracks/161053169/processed_ATL10-01_20181102153049_05350101_001_01.h5\n",
      "ATL10 file: /home/jovyan/segtrax/data/ATL10_tracks/161184155/processed_ATL10-01_20181101190501_05220101_001_01.h5\n",
      "ATL10 file: /home/jovyan/segtrax/data/ATL10_tracks/161184173/processed_ATL10-01_20181102201341_05380101_001_01.h5\n",
      "ATL10 file: /home/jovyan/segtrax/data/ATL10_tracks/161185873/processed_ATL10-01_20181106165654_05970101_001_01.h5\n",
      "ATL10 file: /home/jovyan/segtrax/data/ATL10_tracks/161156884/processed_ATL10-01_20181103040509_05430101_001_01.h5\n",
      "ATL10 file: /home/jovyan/segtrax/data/ATL10_tracks/161182786/processed_ATL10-01_20181101155626_05200101_001_01.h5\n",
      "ATL10 file: /home/jovyan/segtrax/data/ATL10_tracks/161187844/processed_ATL10-01_20181101142209_05190101_001_01.h5\n",
      "ATL10 file: /home/jovyan/segtrax/data/ATL10_tracks/161156880/processed_ATL10-01_20181103212220_05540101_001_01.h5\n",
      "ATL10 file: /home/jovyan/segtrax/data/ATL10_tracks/161184744/processed_ATL10-01_20181104143933_05650101_001_01.h5\n"
     ]
    }
   ],
   "source": [
    "directory = '/home/jovyan/segtrax/data/ATL10_tracks/*/*'\n",
    "files = glob.glob(directory)\n",
    "\n",
    "traj_list = []\n",
    "\n",
    "for f in files[0:10]:\n",
    "    \n",
    "    segment_id, segment_length, date, lons, lats, freeboard = rd.getATL10(f, beam='gt1l')\n",
    "    \n",
    "    for sid, slen, d, la, lo, fb in zip(segment_id, segment_length, date, lats, lons, freeboard):\n",
    "        traj_list.append(Trajectory(sid, slen, d, la, lo, fb))\n",
    "    "
   ]
  },
  {
   "cell_type": "code",
   "execution_count": 21,
   "metadata": {},
   "outputs": [
    {
     "data": {
      "text/plain": [
       "Trajectory for segment 1 with length 8259610.951683317"
      ]
     },
     "execution_count": 21,
     "metadata": {},
     "output_type": "execute_result"
    }
   ],
   "source": [
    "traj_list[0]"
   ]
  },
  {
   "cell_type": "code",
   "execution_count": 19,
   "metadata": {},
   "outputs": [
    {
     "data": {
      "text/plain": [
       "3340717"
      ]
     },
     "execution_count": 19,
     "metadata": {},
     "output_type": "execute_result"
    }
   ],
   "source": [
    "len(traj_list)"
   ]
  },
  {
   "cell_type": "code",
   "execution_count": null,
   "metadata": {},
   "outputs": [],
   "source": []
  }
 ],
 "metadata": {
  "kernelspec": {
   "display_name": "Python 3",
   "language": "python",
   "name": "python3"
  },
  "language_info": {
   "codemirror_mode": {
    "name": "ipython",
    "version": 3
   },
   "file_extension": ".py",
   "mimetype": "text/x-python",
   "name": "python",
   "nbconvert_exporter": "python",
   "pygments_lexer": "ipython3",
   "version": "3.6.7"
  }
 },
 "nbformat": 4,
 "nbformat_minor": 2
}
